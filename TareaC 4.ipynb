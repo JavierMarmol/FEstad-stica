{
 "cells": [
  {
   "cell_type": "code",
   "execution_count": 37,
   "metadata": {
    "collapsed": true
   },
   "outputs": [],
   "source": [
    "from pylab import *\n",
    "import math as mth\n",
    "%matplotlib inline"
   ]
  },
  {
   "cell_type": "markdown",
   "metadata": {},
   "source": [
    "Esta es la función de la hiperesfera"
   ]
  },
  {
   "cell_type": "code",
   "execution_count": 65,
   "metadata": {
    "collapsed": true
   },
   "outputs": [],
   "source": [
    "def hiperesf(R):\n",
    "    estados = (1./(32))*pi*pi*(R**4)\n",
    "    return estados"
   ]
  },
  {
   "cell_type": "markdown",
   "metadata": {},
   "source": [
    "Función que cuenta los puntos en el cuadrante positivo"
   ]
  },
  {
   "cell_type": "code",
   "execution_count": 62,
   "metadata": {
    "collapsed": false
   },
   "outputs": [],
   "source": [
    "def puntos(R):\n",
    "    n = 0\n",
    "\n",
    "    for i in arange(1,R+1):\n",
    "        for j in arange(1,R+1):\n",
    "            for k in arange(1,R+1):\n",
    "                for l in arange(1,R+1):\n",
    "                    if i*i + j*j + k*k + l*l <= R*R:\n",
    "                        n += 1\n",
    "    \n",
    "    print n\n",
    "    return n"
   ]
  },
  {
   "cell_type": "markdown",
   "metadata": {},
   "source": [
    "Función que cuenta todos los puntos y divide entre $2^N$"
   ]
  },
  {
   "cell_type": "code",
   "execution_count": 31,
   "metadata": {
    "collapsed": false
   },
   "outputs": [],
   "source": [
    "def puntos_masmenos(R):\n",
    "    n = 0\n",
    "\n",
    "    for i in arange(-R,R+1):\n",
    "        for j in arange(-R,R+1):\n",
    "            for k in arange(-R,R+1):\n",
    "                for l in arange(-R,R+1):\n",
    "                    if i*i + j*j + k*k + l*l <= R*R:\n",
    "                        n += 1.\n",
    "\n",
    "    k = n/16\n",
    "    print k\n",
    "    return k"
   ]
  },
  {
   "cell_type": "markdown",
   "metadata": {},
   "source": [
    "Aquí vemos primero puntos e hiperesfera juntos. Después vemos $\\frac{puntos}{hiperesfera}$ y vemos que al principio puntos es sólo una pequeña fracción de hiperesfera pero para N>>1 se aproxima a 1"
   ]
  },
  {
   "cell_type": "code",
   "execution_count": 78,
   "metadata": {
    "collapsed": false
   },
   "outputs": [
    {
     "name": "stdout",
     "output_type": "stream",
     "text": [
      "0\n",
      "0\n",
      "1\n",
      "5\n",
      "32\n",
      "94\n",
      "219\n",
      "437\n",
      "804\n",
      "1362\n",
      "2177\n",
      "3271\n",
      "4768\n",
      "6708\n",
      "9227\n",
      "12381\n",
      "16254\n",
      "20954\n",
      "26707\n",
      "33461\n",
      "41480\n",
      "50884\n",
      "61703\n",
      "74183\n",
      "88606\n",
      "104862\n",
      "123481\n",
      "144241\n",
      "167604\n",
      "193648\n",
      "222799\n",
      "254731\n",
      "290244\n",
      "329512\n",
      "372545\n"
     ]
    },
    {
     "data": {
      "image/png": "[encoded data removed]",
      "text/plain": [
       "<matplotlib.figure.Figure at 0xa2fb898>"
      ]
     },
     "metadata": {},
     "output_type": "display_data"
    },
    {
     "name": "stderr",
     "output_type": "stream",
     "text": [
      "C:\\Users\\Javier\\Anaconda2\\lib\\site-packages\\ipykernel\\__main__.py:8: RuntimeWarning: invalid value encountered in divide\n"
     ]
    },
    {
     "data": {
      "text/plain": [
       "[<matplotlib.lines.Line2D at 0xa7381d0>]"
      ]
     },
     "execution_count": 78,
     "metadata": {},
     "output_type": "execute_result"
    },
    {
     "data": {
      "image/png": "[encoded data removed]",
      "text/plain": [
       "<matplotlib.figure.Figure at 0xa60f198>"
      ]
     },
     "metadata": {},
     "output_type": "display_data"
    }
   ],
   "source": [
    "lon = 35\n",
    "x = arange(0,lon,1)\n",
    "y = zeros(lon)\n",
    "for i in range(lon):\n",
    "    y[i] = puntos(x[i])\n",
    "plot(x,y,x,hiperesf(x))\n",
    "show()\n",
    "plot(x,y/hiperesf(x))"
   ]
  },
  {
   "cell_type": "markdown",
   "metadata": {},
   "source": [
    "Vemos que en realidad hiperesfera aproxima más a puntos_masmenos que a puntos. Sin embargo esto no es lo que quere"
   ]
  },
  {
   "cell_type": "code",
   "execution_count": 80,
   "metadata": {
    "collapsed": false
   },
   "outputs": [
    {
     "name": "stdout",
     "output_type": "stream",
     "text": [
      "0.0625\n",
      "0.5625\n",
      "5.5625\n",
      "26.5625\n",
      "80.0625\n",
      "195.0625\n",
      "411.0625\n",
      "739.5625\n",
      "1261.5625\n",
      "2039.5625\n",
      "3105.5625\n",
      "4529.0625\n",
      "6397.0625\n",
      "8809.0625\n",
      "11882.5625\n",
      "15659.5625\n",
      "20232.5625\n",
      "25744.5625\n",
      "32439.0625\n",
      "40215.0625\n",
      "49369.0625\n",
      "60107.5625\n",
      "72263.5625\n",
      "86295.5625\n",
      "102390.0625\n"
     ]
    },
    {
     "data": {
      "image/png": "[encoded data removed]",
      "text/plain": [
       "<matplotlib.figure.Figure at 0xa06f748>"
      ]
     },
     "metadata": {},
     "output_type": "display_data"
    },
    {
     "name": "stderr",
     "output_type": "stream",
     "text": [
      "C:\\Users\\Javier\\Anaconda2\\lib\\site-packages\\ipykernel\\__main__.py:8: RuntimeWarning: divide by zero encountered in divide\n"
     ]
    },
    {
     "data": {
      "text/plain": [
       "[<matplotlib.lines.Line2D at 0xab7b048>]"
      ]
     },
     "execution_count": 80,
     "metadata": {},
     "output_type": "execute_result"
    },
    {
     "data": {
      "image/png": "[encoded data removed]",
      "text/plain": [
       "<matplotlib.figure.Figure at 0xa3fd9e8>"
      ]
     },
     "metadata": {},
     "output_type": "display_data"
    }
   ],
   "source": [
    "lon = 25\n",
    "x = arange(0,lon,1)\n",
    "y = zeros(lon)\n",
    "for i in range(lon):\n",
    "    y[i] = puntos_masmenos(x[i])\n",
    "plot(x,y,x,hiperesf(x))\n",
    "show()\n",
    "plot(x,y/hiperesf(x))"
   ]
  },
  {
   "cell_type": "code",
   "execution_count": 64,
   "metadata": {
    "collapsed": false
   },
   "outputs": [
    {
     "data": {
      "text/plain": [
       "10280837.917801414"
      ]
     },
     "execution_count": 64,
     "metadata": {},
     "output_type": "execute_result"
    }
   ],
   "source": [
    "hiperesf(100)"
   ]
  },
  {
   "cell_type": "code",
   "execution_count": null,
   "metadata": {
    "collapsed": true
   },
   "outputs": [],
   "source": []
  },
  {
   "cell_type": "code",
   "execution_count": 54,
   "metadata": {
    "collapsed": false
   },
   "outputs": [
    {
     "data": {
      "text/plain": [
       "array([ 0,  2,  4,  6,  8, 10, 12, 14, 16, 18])"
      ]
     },
     "execution_count": 54,
     "metadata": {},
     "output_type": "execute_result"
    }
   ],
   "source": [
    "arange(0,20,2)"
   ]
  },
  {
   "cell_type": "code",
   "execution_count": 14,
   "metadata": {
    "collapsed": false
   },
   "outputs": [
    {
     "data": {
      "text/plain": [
       "array([-5, -4, -3, -2, -1,  0,  1,  2,  3,  4])"
      ]
     },
     "execution_count": 14,
     "metadata": {},
     "output_type": "execute_result"
    }
   ],
   "source": [
    "arange(-5,5)"
   ]
  },
  {
   "cell_type": "code",
   "execution_count": 18,
   "metadata": {
    "collapsed": false
   },
   "outputs": [
    {
     "data": {
      "text/plain": [
       "array([ 0,  1,  2,  3,  4,  5,  6,  7,  8,  9, 10, 11, 12, 13, 14, 15, 16,\n",
       "       17, 18, 19, 20, 21, 22, 23, 24, 25, 26, 27, 28, 29, 30, 31, 32, 33,\n",
       "       34, 35, 36, 37, 38, 39, 40, 41, 42, 43, 44, 45, 46, 47, 48, 49])"
      ]
     },
     "execution_count": 18,
     "metadata": {},
     "output_type": "execute_result"
    }
   ],
   "source": [
    "arange(0,50)"
   ]
  },
  {
   "cell_type": "code",
   "execution_count": 19,
   "metadata": {
    "collapsed": false
   },
   "outputs": [
    {
     "data": {
      "text/plain": [
       "array([  0.        ,   1.02040816,   2.04081633,   3.06122449,\n",
       "         4.08163265,   5.10204082,   6.12244898,   7.14285714,\n",
       "         8.16326531,   9.18367347,  10.20408163,  11.2244898 ,\n",
       "        12.24489796,  13.26530612,  14.28571429,  15.30612245,\n",
       "        16.32653061,  17.34693878,  18.36734694,  19.3877551 ,\n",
       "        20.40816327,  21.42857143,  22.44897959,  23.46938776,\n",
       "        24.48979592,  25.51020408,  26.53061224,  27.55102041,\n",
       "        28.57142857,  29.59183673,  30.6122449 ,  31.63265306,\n",
       "        32.65306122,  33.67346939,  34.69387755,  35.71428571,\n",
       "        36.73469388,  37.75510204,  38.7755102 ,  39.79591837,\n",
       "        40.81632653,  41.83673469,  42.85714286,  43.87755102,\n",
       "        44.89795918,  45.91836735,  46.93877551,  47.95918367,\n",
       "        48.97959184,  50.        ])"
      ]
     },
     "execution_count": 19,
     "metadata": {},
     "output_type": "execute_result"
    }
   ],
   "source": [
    "linspace(0,50)"
   ]
  },
  {
   "cell_type": "code",
   "execution_count": 35,
   "metadata": {
    "collapsed": false
   },
   "outputs": [
    {
     "ename": "SyntaxError",
     "evalue": "invalid syntax (<ipython-input-35-eb65756f8b6d>, line 1)",
     "output_type": "error",
     "traceback": [
      "\u001b[1;36m  File \u001b[1;32m\"<ipython-input-35-eb65756f8b6d>\"\u001b[1;36m, line \u001b[1;32m1\u001b[0m\n\u001b[1;33m    3!\u001b[0m\n\u001b[1;37m     ^\u001b[0m\n\u001b[1;31mSyntaxError\u001b[0m\u001b[1;31m:\u001b[0m invalid syntax\n"
     ]
    }
   ],
   "source": []
  },
  {
   "cell_type": "code",
   "execution_count": 39,
   "metadata": {
    "collapsed": false
   },
   "outputs": [
    {
     "data": {
      "text/plain": [
       "362880"
      ]
     },
     "execution_count": 39,
     "metadata": {},
     "output_type": "execute_result"
    }
   ],
   "source": [
    "mth.factorial(9)"
   ]
  },
  {
   "cell_type": "code",
   "execution_count": 45,
   "metadata": {
    "collapsed": false
   },
   "outputs": [
    {
     "data": {
      "text/plain": [
       "0.00043516774255244084"
      ]
     },
     "execution_count": 45,
     "metadata": {},
     "output_type": "execute_result"
    }
   ],
   "source": [
    "hiperesf(4)"
   ]
  },
  {
   "cell_type": "code",
   "execution_count": 59,
   "metadata": {
    "collapsed": false
   },
   "outputs": [
    {
     "data": {
      "text/plain": [
       "16"
      ]
     },
     "execution_count": 59,
     "metadata": {},
     "output_type": "execute_result"
    }
   ],
   "source": [
    "2**4"
   ]
  },
  {
   "cell_type": "code",
   "execution_count": null,
   "metadata": {
    "collapsed": true
   },
   "outputs": [],
   "source": []
  }
 ],
 "metadata": {
  "anaconda-cloud": {},
  "kernelspec": {
   "display_name": "Python [Root]",
   "language": "python",
   "name": "Python [Root]"
  },
  "language_info": {
   "codemirror_mode": {
    "name": "ipython",
    "version": 2
   },
   "file_extension": ".py",
   "mimetype": "text/x-python",
   "name": "python",
   "nbconvert_exporter": "python",
   "pygments_lexer": "ipython2",
   "version": "2.7.12"
  }
 },
 "nbformat": 4,
 "nbformat_minor": 0
}
